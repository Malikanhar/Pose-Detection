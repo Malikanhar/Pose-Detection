{
 "cells": [
  {
   "cell_type": "code",
   "execution_count": 83,
   "metadata": {},
   "outputs": [],
   "source": [
    "import numpy as np\n",
    "from scipy.spatial import distance"
   ]
  },
  {
   "cell_type": "code",
   "execution_count": 101,
   "metadata": {},
   "outputs": [
    {
     "name": "stdout",
     "output_type": "stream",
     "text": [
      "(360, 18, 2)\n",
      "[[ 1  2]\n",
      " [ 3  4]\n",
      " [ 5  6]\n",
      " [ 7  8]\n",
      " [ 9 10]\n",
      " [11 12]\n",
      " [13 14]\n",
      " [15 16]\n",
      " [17 18]\n",
      " [19 20]\n",
      " [21 22]\n",
      " [23 24]\n",
      " [25 26]\n",
      " [27 28]\n",
      " [29 30]\n",
      " [31 32]\n",
      " [33 34]\n",
      " [35 36]] [[ 73  74]\n",
      " [ 75  76]\n",
      " [ 77  78]\n",
      " [ 79  80]\n",
      " [ 81  82]\n",
      " [ 83  84]\n",
      " [ 85  86]\n",
      " [ 87  88]\n",
      " [ 89  90]\n",
      " [ 91  92]\n",
      " [ 93  94]\n",
      " [ 95  96]\n",
      " [ 97  98]\n",
      " [ 99 100]\n",
      " [101 102]\n",
      " [103 104]\n",
      " [105 106]\n",
      " [107 108]]\n"
     ]
    }
   ],
   "source": [
    "a = []\n",
    "a.append(np.arange(1,360*2*18+1).reshape(360, 18, 2))\n",
    "a.append(np.arange(1,390*2*18+1).reshape(390, 18, 2))\n",
    "a.append(np.arange(1,310*2*18+1).reshape(310, 18, 2))\n",
    "a.append(np.arange(1,320*2*18+1).reshape(320, 18, 2))\n",
    "a.append(np.arange(1,420*2*18+1).reshape(420, 18, 2))\n",
    "a.append(np.arange(1,430*2*18+1).reshape(430, 18, 2))\n",
    "print(a[0].shape)\n",
    "print(a[0][0], a[0][2])"
   ]
  },
  {
   "cell_type": "code",
   "execution_count": 118,
   "metadata": {},
   "outputs": [],
   "source": [
    "# Frame X 18 X 2\n",
    "def get_distance(video):\n",
    "    data = []\n",
    "    for frame in video:\n",
    "        list_hasil = []\n",
    "        for i in range(len(frame)):\n",
    "            for j in range(i+1, len(frame),1):\n",
    "                distance = np.sqrt(np.power((frame[i][0]-frame[j][0]),2) + np.power((frame[i][1]-frame[j][1]),2))\n",
    "                list_hasil.append(distance)\n",
    "        data.append(list_hasil)\n",
    "    return data"
   ]
  },
  {
   "cell_type": "code",
   "execution_count": 130,
   "metadata": {},
   "outputs": [],
   "source": [
    "b = []\n",
    "for i in range(len(a)):\n",
    "    b.append(get_distance(a[i]))"
   ]
  },
  {
   "cell_type": "code",
   "execution_count": 146,
   "metadata": {},
   "outputs": [],
   "source": [
    "count_dist = 153\n",
    "num_split = 60\n",
    "gap = 10\n",
    "TS = 6\n",
    "\n",
    "e = []\n",
    "d2 = []\n",
    "k = 0\n",
    "for arr_vid in b:\n",
    "#     d2 = []\n",
    "    for i in range(len(arr_vid) - num_split + gap):\n",
    "        d1 = []\n",
    "        for j in range(i, i + num_split, gap):\n",
    "            d1.append(arr_vid[j])\n",
    "        d2.append(np.reshape(d1,918))\n",
    "        d2[i] = np.append(d2[i],0)\n",
    "    e.append(d2)"
   ]
  },
  {
   "cell_type": "code",
   "execution_count": 150,
   "metadata": {},
   "outputs": [
    {
     "name": "stdout",
     "output_type": "stream",
     "text": [
      "924\n"
     ]
    }
   ],
   "source": [
    "print(len(d2[1]))"
   ]
  },
  {
   "cell_type": "code",
   "execution_count": 145,
   "metadata": {},
   "outputs": [
    {
     "name": "stdout",
     "output_type": "stream",
     "text": [
      "1930\n"
     ]
    }
   ],
   "source": [
    "total_frame = 0\n",
    "for i in e:\n",
    "    total_frame += len(i)\n",
    "print(total_frame)"
   ]
  },
  {
   "cell_type": "code",
   "execution_count": 81,
   "metadata": {},
   "outputs": [],
   "source": [
    "np.savetxt(\"tes.csv\", e[0], delimiter=\",\")"
   ]
  },
  {
   "cell_type": "code",
   "execution_count": null,
   "metadata": {},
   "outputs": [],
   "source": [
    "workbook = xlsxwriter.Workbook('DATASET_TIMESERIES.xlsx')\n",
    "worksheet = workbook.add_worksheet()\n",
    "\n",
    "row = 0\n",
    "i = 0\n",
    "num_split = 60\n",
    "for i,e in data.items():\n",
    "    for arr_vid in e:\n",
    "        col = 0\n",
    "        for j in range(len(arr_vid) - num_split + 1):\n",
    "            for k in range(j, j+num_split):\n",
    "                for l in range(len(arr_vid[k])):\n",
    "                    worksheet.write(row, col, e[k][l])\n",
    "                    col+=1\n",
    "            row+=1\n",
    "workbook.close()"
   ]
  }
 ],
 "metadata": {
  "kernelspec": {
   "display_name": "Python 3",
   "language": "python",
   "name": "python3"
  },
  "language_info": {
   "codemirror_mode": {
    "name": "ipython",
    "version": 3
   },
   "file_extension": ".py",
   "mimetype": "text/x-python",
   "name": "python",
   "nbconvert_exporter": "python",
   "pygments_lexer": "ipython3",
   "version": "3.6.4"
  }
 },
 "nbformat": 4,
 "nbformat_minor": 2
}
